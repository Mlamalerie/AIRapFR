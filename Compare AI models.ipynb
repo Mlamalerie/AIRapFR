{
 "cells": [
  {
   "cell_type": "code",
   "execution_count": 9,
   "metadata": {
    "collapsed": true
   },
   "outputs": [],
   "source": [
    "from data.load import load_df_dataset"
   ]
  },
  {
   "cell_type": "code",
   "execution_count": 10,
   "outputs": [
    {
     "name": "stdout",
     "output_type": "stream",
     "text": [
      "Loading data/datasets/genius-1273-keryjames\\df_genius_keryjames_all_songs_202212.csv\n"
     ]
    },
    {
     "data": {
      "text/plain": "   annotation_count        api_path  \\\n0                 8   /songs/212896   \n1                 2   /songs/319537   \n2                 3   /songs/422500   \n3                 0  /songs/3232542   \n4                 0  /songs/2438741   \n\n                                        artist_names  \\\n0      Kery James (Ft. Hamed Däye, Rocca & Shurik'n)   \n1                                         Kery James   \n2                                         Kery James   \n3                                         Kery James   \n4  Kery James (Ft. AP du 113, Demon One, Dry, Jes...   \n\n                                          full_title  \\\n0  Animalement vôtre by Kery James (Ft. Hamed Däy...   \n1             Les frères ne savent pas by Kery James   \n2                  Ce \"A\" d'avilissant by Kery James   \n3                       Cessez le feu! by Kery James   \n4  C'qui nous perd by Kery James (Ft. AP du 113, ...   \n\n                          header_image_thumbnail_url  \\\n0  https://images.genius.com/c59b0a083a7ca9b59d34...   \n1  https://images.genius.com/f49e1be88c3afe271d21...   \n2  https://images.genius.com/5f27a1bc12d9a3d6ba80...   \n3  https://images.genius.com/5f27a1bc12d9a3d6ba80...   \n4  https://images.genius.com/5f27a1bc12d9a3d6ba80...   \n\n                                    header_image_url       id language  \\\n0  https://images.genius.com/c59b0a083a7ca9b59d34...   212896       fr   \n1  https://images.genius.com/f49e1be88c3afe271d21...   319537       fr   \n2  https://images.genius.com/5f27a1bc12d9a3d6ba80...   422500       fr   \n3  https://images.genius.com/5f27a1bc12d9a3d6ba80...  3232542       fr   \n4  https://images.genius.com/5f27a1bc12d9a3d6ba80...  2438741       fr   \n\n   lyrics_owner_id lyrics_state  ...  \\\n0            72031     complete  ...   \n1           259935     complete  ...   \n2             6849     complete  ...   \n3           170558     complete  ...   \n4           229716     complete  ...   \n\n                                           album.url  album.artist.api_path  \\\n0  https://genius.com/albums/Premiere-classe/Prem...        /artists/114168   \n1  https://genius.com/albums/Dj-mars/Time-bomb-se...         /artists/28084   \n2  https://genius.com/albums/Kery-james/Si-cetait...          /artists/1273   \n3  https://genius.com/albums/Kery-james/Si-cetait...          /artists/1273   \n4  https://genius.com/albums/Kery-james/Si-cetait...          /artists/1273   \n\n                       album.artist.header_image_url  album.artist.id  \\\n0  https://images.genius.com/9630a8af9be4fba640aa...         114168.0   \n1  https://images.genius.com/8459f3fc087512fe1fa6...          28084.0   \n2  https://images.genius.com/b3e3e1d25f67b271355a...           1273.0   \n3  https://images.genius.com/b3e3e1d25f67b271355a...           1273.0   \n4  https://images.genius.com/b3e3e1d25f67b271355a...           1273.0   \n\n                              album.artist.image_url  \\\n0  https://images.genius.com/9630a8af9be4fba640aa...   \n1  https://images.genius.com/8459f3fc087512fe1fa6...   \n2  https://images.genius.com/74cf66f613495ab9c902...   \n3  https://images.genius.com/74cf66f613495ab9c902...   \n4  https://images.genius.com/74cf66f613495ab9c902...   \n\n  album.artist.is_meme_verified album.artist.is_verified album.artist.name  \\\n0                         False                    False   Première Classe   \n1                         False                    False           DJ Mars   \n2                         False                     True        Kery James   \n3                         False                     True        Kery James   \n4                         False                     True        Kery James   \n\n                             album.artist.url album.artist.iq  \n0  https://genius.com/artists/Premiere-classe             NaN  \n1          https://genius.com/artists/Dj-mars             NaN  \n2       https://genius.com/artists/Kery-james          2726.0  \n3       https://genius.com/artists/Kery-james          2726.0  \n4       https://genius.com/artists/Kery-james          2726.0  \n\n[5 rows x 107 columns]",
      "text/html": "<div>\n<style scoped>\n    .dataframe tbody tr th:only-of-type {\n        vertical-align: middle;\n    }\n\n    .dataframe tbody tr th {\n        vertical-align: top;\n    }\n\n    .dataframe thead th {\n        text-align: right;\n    }\n</style>\n<table border=\"1\" class=\"dataframe\">\n  <thead>\n    <tr style=\"text-align: right;\">\n      <th></th>\n      <th>annotation_count</th>\n      <th>api_path</th>\n      <th>artist_names</th>\n      <th>full_title</th>\n      <th>header_image_thumbnail_url</th>\n      <th>header_image_url</th>\n      <th>id</th>\n      <th>language</th>\n      <th>lyrics_owner_id</th>\n      <th>lyrics_state</th>\n      <th>...</th>\n      <th>album.url</th>\n      <th>album.artist.api_path</th>\n      <th>album.artist.header_image_url</th>\n      <th>album.artist.id</th>\n      <th>album.artist.image_url</th>\n      <th>album.artist.is_meme_verified</th>\n      <th>album.artist.is_verified</th>\n      <th>album.artist.name</th>\n      <th>album.artist.url</th>\n      <th>album.artist.iq</th>\n    </tr>\n  </thead>\n  <tbody>\n    <tr>\n      <th>0</th>\n      <td>8</td>\n      <td>/songs/212896</td>\n      <td>Kery James (Ft. Hamed Däye, Rocca &amp; Shurik'n)</td>\n      <td>Animalement vôtre by Kery James (Ft. Hamed Däy...</td>\n      <td>https://images.genius.com/c59b0a083a7ca9b59d34...</td>\n      <td>https://images.genius.com/c59b0a083a7ca9b59d34...</td>\n      <td>212896</td>\n      <td>fr</td>\n      <td>72031</td>\n      <td>complete</td>\n      <td>...</td>\n      <td>https://genius.com/albums/Premiere-classe/Prem...</td>\n      <td>/artists/114168</td>\n      <td>https://images.genius.com/9630a8af9be4fba640aa...</td>\n      <td>114168.0</td>\n      <td>https://images.genius.com/9630a8af9be4fba640aa...</td>\n      <td>False</td>\n      <td>False</td>\n      <td>Première Classe</td>\n      <td>https://genius.com/artists/Premiere-classe</td>\n      <td>NaN</td>\n    </tr>\n    <tr>\n      <th>1</th>\n      <td>2</td>\n      <td>/songs/319537</td>\n      <td>Kery James</td>\n      <td>Les frères ne savent pas by Kery James</td>\n      <td>https://images.genius.com/f49e1be88c3afe271d21...</td>\n      <td>https://images.genius.com/f49e1be88c3afe271d21...</td>\n      <td>319537</td>\n      <td>fr</td>\n      <td>259935</td>\n      <td>complete</td>\n      <td>...</td>\n      <td>https://genius.com/albums/Dj-mars/Time-bomb-se...</td>\n      <td>/artists/28084</td>\n      <td>https://images.genius.com/8459f3fc087512fe1fa6...</td>\n      <td>28084.0</td>\n      <td>https://images.genius.com/8459f3fc087512fe1fa6...</td>\n      <td>False</td>\n      <td>False</td>\n      <td>DJ Mars</td>\n      <td>https://genius.com/artists/Dj-mars</td>\n      <td>NaN</td>\n    </tr>\n    <tr>\n      <th>2</th>\n      <td>3</td>\n      <td>/songs/422500</td>\n      <td>Kery James</td>\n      <td>Ce \"A\" d'avilissant by Kery James</td>\n      <td>https://images.genius.com/5f27a1bc12d9a3d6ba80...</td>\n      <td>https://images.genius.com/5f27a1bc12d9a3d6ba80...</td>\n      <td>422500</td>\n      <td>fr</td>\n      <td>6849</td>\n      <td>complete</td>\n      <td>...</td>\n      <td>https://genius.com/albums/Kery-james/Si-cetait...</td>\n      <td>/artists/1273</td>\n      <td>https://images.genius.com/b3e3e1d25f67b271355a...</td>\n      <td>1273.0</td>\n      <td>https://images.genius.com/74cf66f613495ab9c902...</td>\n      <td>False</td>\n      <td>True</td>\n      <td>Kery James</td>\n      <td>https://genius.com/artists/Kery-james</td>\n      <td>2726.0</td>\n    </tr>\n    <tr>\n      <th>3</th>\n      <td>0</td>\n      <td>/songs/3232542</td>\n      <td>Kery James</td>\n      <td>Cessez le feu! by Kery James</td>\n      <td>https://images.genius.com/5f27a1bc12d9a3d6ba80...</td>\n      <td>https://images.genius.com/5f27a1bc12d9a3d6ba80...</td>\n      <td>3232542</td>\n      <td>fr</td>\n      <td>170558</td>\n      <td>complete</td>\n      <td>...</td>\n      <td>https://genius.com/albums/Kery-james/Si-cetait...</td>\n      <td>/artists/1273</td>\n      <td>https://images.genius.com/b3e3e1d25f67b271355a...</td>\n      <td>1273.0</td>\n      <td>https://images.genius.com/74cf66f613495ab9c902...</td>\n      <td>False</td>\n      <td>True</td>\n      <td>Kery James</td>\n      <td>https://genius.com/artists/Kery-james</td>\n      <td>2726.0</td>\n    </tr>\n    <tr>\n      <th>4</th>\n      <td>0</td>\n      <td>/songs/2438741</td>\n      <td>Kery James (Ft. AP du 113, Demon One, Dry, Jes...</td>\n      <td>C'qui nous perd by Kery James (Ft. AP du 113, ...</td>\n      <td>https://images.genius.com/5f27a1bc12d9a3d6ba80...</td>\n      <td>https://images.genius.com/5f27a1bc12d9a3d6ba80...</td>\n      <td>2438741</td>\n      <td>fr</td>\n      <td>229716</td>\n      <td>complete</td>\n      <td>...</td>\n      <td>https://genius.com/albums/Kery-james/Si-cetait...</td>\n      <td>/artists/1273</td>\n      <td>https://images.genius.com/b3e3e1d25f67b271355a...</td>\n      <td>1273.0</td>\n      <td>https://images.genius.com/74cf66f613495ab9c902...</td>\n      <td>False</td>\n      <td>True</td>\n      <td>Kery James</td>\n      <td>https://genius.com/artists/Kery-james</td>\n      <td>2726.0</td>\n    </tr>\n  </tbody>\n</table>\n<p>5 rows × 107 columns</p>\n</div>"
     },
     "execution_count": 10,
     "metadata": {},
     "output_type": "execute_result"
    }
   ],
   "source": [
    "df_artist = load_df_dataset(\"data/datasets/genius-1273-keryjames\")\n",
    "df_artist.head()"
   ],
   "metadata": {
    "collapsed": false
   }
  },
  {
   "cell_type": "code",
   "execution_count": 11,
   "outputs": [
    {
     "data": {
      "text/plain": "\"Animalement vôtre Lyrics[Intro]\\nMesdames, messieurs, les passagers non-ressortissants à la Communauté Européenne doivent présenter une fiche d'immigration à l'arrivée en France\\nDans le cas contraire, nous serons forcés de vous rapatrier à la destination de départ\\n\\n[Couplet 1 : Kery James]\\nLa rage qui m'habite brisera vos murs\\nQue l'état suce ma bite, j'ai endossé l'africaine armure\\nAvec ta France, je n'ai aucun lien de parenté, je suis pas de tes fils\\nJ'ai vécu dans la promiscuité avec les fils du vice\\nVision chaotique d'une situation diabolique\\nL'histoire a fait de moi Kery James le mélancolique\\nJ'suis de l'esclave le fils, je t'annonce la couleur d'office\\nD'office, je nique ta police, ta justice et 3 fois 6.6.6stème\\nJe ramène de ma rue ses pensées extrêmes\\nFaudrait que tu te renseignes, on rêve de saigner la droite extrême\\nSeul le Tout-Puissant, bienveillant et omniscient\\nDispose de mon souffle, de mes forces et de mon sang\\nEn plus de son sang je pourrais même y laisser ma vie\\nAvenir obscurci, l'état m'a mis un préavis\\nMais je suis hostile à toute forme de compromission\\nSans prétentions, comme dans le passé, je suis sur une mission\\nChacun sa vision, voilà mon avis\\nMais notre vision n'est peut-être que le reflet de ce que l'on vit\\nIci, j'ai vu trop d'horreurs, pas assez vécu de bonheur\\nMa conscience m'a dénoncé cette vie de malheur\\nMon passage sur Terre pourrait lui-même n'être qu'un leurre\\nJe serai jamais heureux parce que ce système c'est le leur\\nJ'ai peur et rêve que mes frères prennent de l'ampleur\\nVu quand j'ouvre les yeux, ce n'est pas que de rage que je pleure\\nMais de déception, c'est bleu, blanc, rouge, comme le sang des nôtres\\nCette France n'est pas amicalement nôtre\\nYou might also like[Refrain 1 : Kery James, Hamed Daye & Shurik'n]\\nEt tu crois, que ton intégration on y croit\\nMais tes actes racistes ont pris du poids\\nAnimalement vôtre, ton pays c'est pas le nôtre\\nMoi et mon armée on dévore tout et la tienne tombe et se vautre\\nA chacun de mes pas, ton regard posé sur moi\\nMe blesse comme si tu me pointais du doigt, et tu crois\\nQue viennent ceux qui tiennent à essayer de nous dévier\\nLa fureur dans les gènes, qui peut stopper un homme décidé ?\\n\\n[Couplet 2 : Rocca]\\nMes yeux saignent de rage, de lourdes larmes creusent les joues de mon visage\\nDrames, sur le macadam, Paname rassemble des milliers de rêves brisés\\nÇa me suffit, je plains les jeunes que le système condamne, yeah\\nJe calme le jeu, sauve mon âme des flammes du mal qui me réclament\\nJe rêve d'évasion, de fuir ce béton qui m’emplâtre chaque jour un peu plus\\nCherche au fond des yeux de mes parents le force de tenir encore plus\\nAu mic, c'est conscience, refoulement, donc ça crame dans les halls\\nLa violence a toujours été la parole du pauvre\\nMa voix c'est d'la mélancolie, de l'espoir qui m'alimente\\nColombia, America Latina, represent\\nRepresent, c'est ce foutu mal du pays qui me hante\\nJe rentre par effraction dans un système qui me veut une mort lente\\nAnnihiler mes origines, ma culture, ma langue d'origine\\nPuis quand je n'aurai plus rien, on me parquera loin des villes\\nJe serai loin de mon vrai pays et près de celui qui m'a trahi\\nJe veux pas mourir comme un déraciné dans l'oubli\\nSoy como un boomerang los que no creen ya verán\\nPereceran soy la venganza india llegó el huracán\\nAfricano árabe latino jeune de té-ci\\nJe vous l'avais dit, on fera notre place dans ce pays\\n[Couplet 3 : Shurik'n]\\nJe suis pas Zorro (non, juste un grillé), élevé au pain, même pas grillé\\nPris au collet, je priais, puis j'suis devenu MC qui rigole pas\\nFallait qu'ils sachent comment j'm'appelle, sûr, fallait que je sois dur\\nPlus cruel que le sort qui pousse nos pères à la truelle\\nEt je cure mon mal par des mots man, ma rage reste au top des hits\\nSur micro, m'man est fière de son minot man, ma voix loin des mythomanes\\nJe brave les cons, les pantins que ça fait chier\\nDe voir un noir dire ce qui ne va pas dans leurs patelins, ce pouvoir est un devoir que je fais mien\\nMa couleur fait qu'il faut que je sois mieux que les autres\\nEt si je me vautre, faudra que je me sorte plus vite que les autres, je garde en tête que les nuls sautent\\nQue nos gosses voient tôt des Glocks faire click, combien d'orgueil ont courbé le dos pour un bout de plastique\\nCombien bannissent toute éthique\\nJe rappe pour ma souche, bébé, y'a rien de louche dans mes affaires\\nJe sais ça paraît flou de la part d'un basané mais\\nMes 10 années de rimes arrosent les fleurs sur les tombes de ceux qui ont pris une pause trop tôt\\nFini, une vie pas rose\\nTrop de doses ankylosent les choses, dans la tête explosent plein de truc moroses\\nLes neurones pètent, chanceux sont ceux qui dealent des proses pour des chèques\\nQui taffent avec fierté, tentent de servir d'exemple\\nFallait oser, allez, je lève mon verre à ceux qui sont allés\\n\\n[Refrain 2 : Kery James, Rocca, Hamed Daye & Shurik'n]\\nEt tu crois, que ton intégration on y croit\\nMais tes actes racistes ont pris du poids\\nYeah, je suis comme un boomerang déguisé, la force d'un continent pillé\\nUne vague, qui vient reprendre tout ce qu'on lui a volé\\nA chacun de mes pas, ton regard posé sur moi\\nMe blesse comme si tu me pointais du doigt et tu crois\\nQue viennent ceux qui tiennent à essayer de nous dévier\\nLa fureur dans les gênes, qui peut stopper un homme décidé ?\\n[Couplet 4 : Hamed Daye]\\nJ'ai passé 20 ans de ma vie à trimer\\nTu sais ce que c'est de se réveiller 2 heures avant que le soleil songe à se lever\\nVoir la lampe te flamber les yeuz' comme une sentinelle\\nEt les gouttes des fuites du robinet qui te martèlent, telles une truelle\\nEt voir ton boss, un boulard qui te parle, fonce-dé au pinard\\nT'ordonne d'aller sur le chantier sinon t'es tricard\\nPour ta paye de smicard, un cauchemar, chaque jour que Dieu fait\\nMais bonhomme, on encaisse tout\\nOn a pas le temps d'aller se plaindre aux prud'hommes, en somme, boum\\nLa seule joie qu't'a c'est de voir ton môme grandir chaque jour\\nEt voir ta souffrance qui endure pour devenir demain quelqu'un qu'on respecte\\nNon celui qu'on suspecte, mais celui que les teur-inspect regrettent de voir dans leurs registres\\nParce que le mec est classé net, je te parle pas du remake de Scarface cette fois-ci\\nJe connais le dos des cartes alors je mise tout sur mon se-fi\\nUn missile que personne pourra désamorcer, stopper ou désaxer de sa mission\\nOk, j'accéderai peut-être pas avec lui au Panthéon\\nMais demain son regard brûlera d'un seul coup toute ta nation\\nJ'te le dis à la surface de ton rejeton, donc mec fais bien attention\\n\\n[Refrain 2]\\nEt tu crois, que ton intégration on y croit\\nMais tes actes racistes ont pris du poids\\nYeah, je suis comme un boomerang déguisé, la force d'un continent pillé\\nUne vague, qui vient reprendre tout ce qu'on lui a volé\\nA chacun de mes pas, ton regard posé sur moi\\nMe blesse comme si tu me pointais du doigt, Animalement Vôtre\\nEt tu crois\\nTon pays c'est pas le nôtre\\nMoi et mon armée on dévore tout et la tienne tombe et se vautre\\nDe surcroît, la tension s'accroît\\nMes frères en ont marre de porter la croix, et tu crois\\nQue viennent ceux qui tiennent à essayer de nous dévier\\nLa fureur dans les gênes, qui peux stopper un homme décidé ?Embed\""
     },
     "execution_count": 11,
     "metadata": {},
     "output_type": "execute_result"
    }
   ],
   "source": [
    "df_artist.iloc[0].lyrics"
   ],
   "metadata": {
    "collapsed": false
   }
  },
  {
   "cell_type": "code",
   "execution_count": 12,
   "outputs": [],
   "source": [
    "from ai.markov_chain import MarkovChainLyricsGenerator\n",
    "model = MarkovChainLyricsGenerator(is_stupid=True)"
   ],
   "metadata": {
    "collapsed": false
   }
  },
  {
   "cell_type": "code",
   "execution_count": 13,
   "outputs": [
    {
     "name": "stdout",
     "output_type": "stream",
     "text": [
      "[■■■■■■■■■■] - 100.0% Generating Markov Chain Model"
     ]
    }
   ],
   "source": [
    "model.train(df_artist, k=4)"
   ],
   "metadata": {
    "collapsed": false
   }
  },
  {
   "cell_type": "code",
   "execution_count": 14,
   "outputs": [],
   "source": [
    "starting_sent = \"J'me suis fait\""
   ],
   "metadata": {
    "collapsed": false
   }
  },
  {
   "cell_type": "code",
   "execution_count": 17,
   "outputs": [
    {
     "name": "stdout",
     "output_type": "stream",
     "text": [
      "je suis mafia k1 fry « thug life » \n",
      " mafia k1 fry  \" thug life \"  c'est la vie qu'on a mené, pardon à tous ceux qu'ont un pote ou un frère qui s'est fait buter \n",
      " à toutes les équipes \n",
      " à tous les gosses qui fascinent et qui troublent \n",
      " la vie entière dans les ailes \n",
      " ces gosses pas comme les autres qui parlent peu et qui prouvent \n",
      " le monde est c'qu'il est, ils sont c'qu'ils sont \n",
      " et c'qu'ils font \n",
      " nos freres savent c'qu'ils font mais ne savent pas ce qu'ils font je sais l'faire, où ils vont j'y étais hier \n",
      " j'peux tuer le match sur un corner \n",
      " j'peux tuer le match sur un corner \n",
      " j'peux tuer le match sur un corner \n",
      " j'peux tuer le match sur un corner \n",
      " j'peux tuer l'game sur un coup de fil ( allô allô ) \n",
      " demande à skyrock si kery est un rappeur docile \n",
      " jab du gauche, crochet du droit \n",
      " esquive rotative, uppercut dans le foie \n",
      " vous vouliez le trône, je me l'octroie \n",
      " vous vouliez ma zone, vous aurez l'pôle emploi \n",
      " tout ce qu'ici ils te refusent \n",
      " ailleurs te le promet \n",
      " mais ça tu l'aurais deja fait, si tu le pouvais\n"
     ]
    }
   ],
   "source": [
    "model.set_stupid(False)\n",
    "print(model.generate(\"Je suis\", max_len=250))"
   ],
   "metadata": {
    "collapsed": false
   }
  },
  {
   "cell_type": "code",
   "execution_count": 18,
   "outputs": [
    {
     "name": "stdout",
     "output_type": "stream",
     "text": [
      "je suis authentique ! \n",
      " on s'en remet à dieu, dans les moments les plus difficiles \n",
      " comme dans l'aisance \n",
      " afin que s'apaisent les coeurs \n",
      " que sèchent les larmes et les maladies \n",
      " comme le soleil à la pluie, le jour à la nuit \n",
      " a veces cuando yo pienso \n",
      " sabe ver lo que ido yo, que ha sido \n",
      " a veces cuando yo pienso \n",
      " la soledad me hace miedo \n",
      " a veces cuando yo pienso \n",
      " la soledad me hace miedo \n",
      " a veces cuando yo pienso \n",
      " sabe ver lo que ido yo e recibo \n",
      " cette mélodie m'inspire la tristesse \n",
      " pour être franc elle me rend triste \n",
      " elle, réveille en moi ce pourquoi je suis artiste \n",
      " un, truc profond spécial qui vient des tripes \n",
      " qui, fait de moi kery james le réaliste \n",
      " l'argent les rend arrogants, parfois même violents \n",
      " ils ont pour conviction qu'ils ne pourraient vivre sans \n",
      " parti du bas faut viser l'haut, voilà à quoi nos efforts servent \n",
      " jamais tomber en faillite comme corsair \n",
      " nos écrits ont un message c'est pour ça qu'on les reconnaît \" \n",
      " ces propos n'ont pas laissé indifférent le monde du rap . \" musique nègre \" c'est donc le titre de la nouvelle chanson du rappeur kery james, l'auteur du très dérangeant, mais fédérateur, \"\n"
     ]
    }
   ],
   "source": [
    "model.set_stupid(True)\n",
    "print(model.generate(\"Je suis\", max_len=250))"
   ],
   "metadata": {
    "collapsed": false
   }
  }
 ],
 "metadata": {
  "kernelspec": {
   "display_name": "Python 3",
   "language": "python",
   "name": "python3"
  },
  "language_info": {
   "codemirror_mode": {
    "name": "ipython",
    "version": 2
   },
   "file_extension": ".py",
   "mimetype": "text/x-python",
   "name": "python",
   "nbconvert_exporter": "python",
   "pygments_lexer": "ipython2",
   "version": "2.7.6"
  }
 },
 "nbformat": 4,
 "nbformat_minor": 0
}
