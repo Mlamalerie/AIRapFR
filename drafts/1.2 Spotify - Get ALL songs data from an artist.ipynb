{
 "cells": [
  {
   "cell_type": "code",
   "source": [
    "import spotipy\n",
    "from spotipy.oauth2 import SpotifyClientCredentials\n",
    "\n",
    "import pandas as pd\n",
    "import matplotlib.pyplot as plt\n",
    "import numpy as np\n",
    "import time\n",
    "from datetime import datetime\n",
    "from typing import List\n",
    "\n",
    "SETLIST_FM_API_KEY = 'b0bf96c4-6af5-4ac0-ae87-1b3d8e6cd9cb'\n",
    "SPOTIFY_CLIENT_ID = 'bb7dcf3b9cf841939c48ef54843ef28a'\n",
    "SPOTIFY_CLIENT_SECRET = '27f9dd07f1d44be8b12fea7d297be7f6'"
   ],
   "execution_count": null,
   "outputs": [],
   "metadata": {
    "datalore": {
     "node_id": "NIauK0JUUKxmr6d2Hn5B9d",
     "type": "CODE",
     "hide_input_from_viewers": false,
     "hide_output_from_viewers": false
    },
    "pycharm": {
     "is_executing": true
    }
   }
  },
  {
   "cell_type": "code",
   "source": [
    "WORKSPACE_FOLDER_PATH = \"/data/workspace_files/\""
   ],
   "execution_count": 4,
   "outputs": [],
   "metadata": {
    "datalore": {
     "node_id": "psh5eMzH99Spz3VsA6ma77",
     "type": "CODE",
     "hide_input_from_viewers": false,
     "hide_output_from_viewers": false
    }
   }
  },
  {
   "cell_type": "code",
   "source": [
    "ARTIST_NAME = \"Rohff\"\n",
    "ARTIST_SPOTIFY_ID = \"32UhRcgdXO6LdLhOpfIdxp\""
   ],
   "execution_count": 5,
   "outputs": [],
   "metadata": {
    "datalore": {
     "node_id": "PB6hSXFJvFWUIo2lVK70fA",
     "type": "CODE",
     "hide_input_from_viewers": false,
     "hide_output_from_viewers": false
    }
   }
  },
  {
   "cell_type": "markdown",
   "source": [
    "## 📦 DATA SPOTIFY : RÉCUPÉRATION "
   ],
   "attachments": {},
   "metadata": {
    "datalore": {
     "node_id": "w1qsa9D9XhMGXmceMH9q5J",
     "type": "MD",
     "hide_input_from_viewers": false,
     "hide_output_from_viewers": false
    }
   }
  },
  {
   "cell_type": "code",
   "source": [
    "lz_uri = 'spotify:artist:%s' % (ARTIST_SPOTIFY_ID)\n",
    "\n",
    "spotify = spotipy.Spotify(client_credentials_manager=SpotifyClientCredentials(SPOTIFY_CLIENT_ID, SPOTIFY_CLIENT_SECRET))\n",
    "results_artist_albums = spotify.artist_albums(lz_uri)\n",
    "results_artist_albums.keys()"
   ],
   "execution_count": 8,
   "outputs": [
    {
     "data": {
      "text/plain": [
       "dict_keys(['href', 'items', 'limit', 'next', 'offset', 'previous', 'total'])"
      ]
     },
     "metadata": {},
     "output_type": "display_data"
    }
   ],
   "metadata": {
    "datalore": {
     "node_id": "DiQeULuyhFKn51Ugl5crU9",
     "type": "CODE",
     "hide_input_from_viewers": false,
     "hide_output_from_viewers": false
    }
   }
  },
  {
   "cell_type": "code",
   "source": [
    "def get_data_track_from_spotify(id : str, try_how_many = 5, sleep_sec = 10) -> dict:\n",
    "    if try_how_many > 0:\n",
    "        try:\n",
    "            data = spotify.track(id)\n",
    "        except Exception as e:\n",
    "            print(\"error\",e)\n",
    "            try_how_many -= 1\n",
    "            time.sleep(sleep_sec)\n",
    "            return get_data_track_from_spotify(id, try_how_many, sleep_sec)\n",
    "        else:\n",
    "            \n",
    "            return data\n",
    "    return {}     \n",
    "        \n",
    "\n",
    "tracks_list = []\n",
    "for album_item in results_artist_albums[\"items\"]:\n",
    "    for track_item in spotify.album_tracks(album_item['id'])['items']:\n",
    "        tracks_list.append(get_data_track_from_spotify(track_item['id']))\n",
    "    print(f\"{album_item['album_type']} {album_item['name']} -> {album_item['total_tracks']} tracks 👌🏾\")"
   ],
   "execution_count": 21,
   "outputs": [
    {
     "name": "stdout",
     "text": [
      "album Grand Monsieur -> 26 tracks 👌🏾\n",
      "album Surnaturel -> 30 tracks 👌🏾\n",
      "album Le Rohff Game -> 19 tracks 👌🏾\n",
      "album Le Rohff Game -> 19 tracks 👌🏾\n",
      "album P.D.R.G. (Pouvoir, Danger, Respect & Game) -> 27 tracks 👌🏾\n",
      "album P.D.R.G. (Pouvoir, Danger, Respect & Game) -> 26 tracks 👌🏾\n",
      "album La cuenta [Edition Deluxe] -> 24 tracks 👌🏾\n",
      "album La cuenta -> 18 tracks 👌🏾\n",
      "album Le Code De L'horreur -> 18 tracks 👌🏾\n",
      "album Le Code De L'horreur [Exclu SFR] -> 18 tracks 👌🏾\n",
      "album Le Cauchemar Du Rap Francais -> 31 tracks 👌🏾\n",
      "album Au-Delà De Mes Limites -> 29 tracks 👌🏾\n",
      "album Au-Delà De Mes Limites -> 19 tracks 👌🏾\n",
      "album la fierte des notres -> 30 tracks 👌🏾\n",
      "album La vie avant la mort -> 17 tracks 👌🏾\n",
      "album La vie avant la mort -> 16 tracks 👌🏾\n",
      "single Masterclass -> 1 tracks 👌🏾\n",
      "single Life Style -> 1 tracks 👌🏾\n",
      "single Dansa -> 1 tracks 👌🏾\n",
      "single Je suis l'94 -> 1 tracks 👌🏾\n"
     ],
     "output_type": "stream"
    }
   ],
   "metadata": {
    "datalore": {
     "node_id": "tLwrQVdKgioPLJdk9v7RTd",
     "type": "CODE",
     "hide_input_from_viewers": false,
     "hide_output_from_viewers": false
    }
   }
  },
  {
   "cell_type": "code",
   "source": [
    "len(tracks_list)"
   ],
   "execution_count": 22,
   "outputs": [
    {
     "data": {
      "text/plain": [
       "371"
      ]
     },
     "metadata": {},
     "output_type": "display_data"
    }
   ],
   "metadata": {
    "datalore": {
     "node_id": "6CFG1wQ8xMYzyEfDuCPIYH",
     "type": "CODE",
     "hide_input_from_viewers": false,
     "hide_output_from_viewers": false
    }
   }
  },
  {
   "cell_type": "code",
   "source": [
    "tracks_list[0].keys()"
   ],
   "execution_count": 13,
   "outputs": [
    {
     "data": {
      "text/plain": [
       "dict_keys(['album', 'artists', 'available_markets', 'disc_number', 'duration_ms', 'explicit', 'external_ids', 'external_urls', 'href', 'id', 'is_local', 'name', 'popularity', 'preview_url', 'track_number', 'type', 'uri'])"
      ]
     },
     "metadata": {},
     "output_type": "display_data"
    }
   ],
   "metadata": {
    "datalore": {
     "node_id": "8oqt0asC4dc1S7J5WHHJVe",
     "type": "CODE",
     "hide_input_from_viewers": false,
     "hide_output_from_viewers": false
    }
   }
  },
  {
   "cell_type": "code",
   "source": [
    "df_spotify_all_songs = pd.json_normalize(tracks_list,max_level=1)\n",
    "df_spotify_all_songs"
   ],
   "execution_count": 11,
   "outputs": [
    {
     "data": {
      "text/html": [
       "<div>\n",
       "<style scoped>\n",
       "    .dataframe tbody tr th:only-of-type {\n",
       "        vertical-align: middle;\n",
       "    }\n",
       "\n",
       "    .dataframe tbody tr th {\n",
       "        vertical-align: top;\n",
       "    }\n",
       "\n",
       "    .dataframe thead th {\n",
       "        text-align: right;\n",
       "    }\n",
       "</style>\n",
       "<table border=\"1\" class=\"dataframe\">\n",
       "  <thead>\n",
       "    <tr style=\"text-align: right;\">\n",
       "      <th></th>\n",
       "      <th>artists</th>\n",
       "      <th>available_markets</th>\n",
       "      <th>disc_number</th>\n",
       "      <th>duration_ms</th>\n",
       "      <th>explicit</th>\n",
       "      <th>href</th>\n",
       "      <th>id</th>\n",
       "      <th>is_local</th>\n",
       "      <th>name</th>\n",
       "      <th>popularity</th>\n",
       "      <th>...</th>\n",
       "      <th>album.id</th>\n",
       "      <th>album.images</th>\n",
       "      <th>album.name</th>\n",
       "      <th>album.release_date</th>\n",
       "      <th>album.release_date_precision</th>\n",
       "      <th>album.total_tracks</th>\n",
       "      <th>album.type</th>\n",
       "      <th>album.uri</th>\n",
       "      <th>external_ids.isrc</th>\n",
       "      <th>external_urls.spotify</th>\n",
       "    </tr>\n",
       "  </thead>\n",
       "  <tbody>\n",
       "    <tr>\n",
       "      <th>0</th>\n",
       "      <td>[{'external_urls': {'spotify': 'https://open.s...</td>\n",
       "      <td>[AD, AE, AG, AL, AM, AO, AR, AT, AU, AZ, BA, B...</td>\n",
       "      <td>1</td>\n",
       "      <td>165535</td>\n",
       "      <td>True</td>\n",
       "      <td>https://api.spotify.com/v1/tracks/51WhuUhQXo6J...</td>\n",
       "      <td>51WhuUhQXo6J40x2EL0xdx</td>\n",
       "      <td>False</td>\n",
       "      <td>GM10</td>\n",
       "      <td>38</td>\n",
       "      <td>...</td>\n",
       "      <td>4DRY3GaeFjBBcd55gw6Orr</td>\n",
       "      <td>[{'height': 640, 'url': 'https://i.scdn.co/ima...</td>\n",
       "      <td>Grand Monsieur</td>\n",
       "      <td>2021-12-09</td>\n",
       "      <td>day</td>\n",
       "      <td>26</td>\n",
       "      <td>album</td>\n",
       "      <td>spotify:album:4DRY3GaeFjBBcd55gw6Orr</td>\n",
       "      <td>FRDEO2100090</td>\n",
       "      <td>https://open.spotify.com/track/51WhuUhQXo6J40x...</td>\n",
       "    </tr>\n",
       "    <tr>\n",
       "      <th>1</th>\n",
       "      <td>[{'external_urls': {'spotify': 'https://open.s...</td>\n",
       "      <td>[AD, AE, AG, AL, AM, AO, AR, AT, AU, AZ, BA, B...</td>\n",
       "      <td>1</td>\n",
       "      <td>170399</td>\n",
       "      <td>True</td>\n",
       "      <td>https://api.spotify.com/v1/tracks/5vwky4XJbSFM...</td>\n",
       "      <td>5vwky4XJbSFMH4gLnWsBHt</td>\n",
       "      <td>False</td>\n",
       "      <td>Classic Man</td>\n",
       "      <td>34</td>\n",
       "      <td>...</td>\n",
       "      <td>4DRY3GaeFjBBcd55gw6Orr</td>\n",
       "      <td>[{'height': 640, 'url': 'https://i.scdn.co/ima...</td>\n",
       "      <td>Grand Monsieur</td>\n",
       "      <td>2021-12-09</td>\n",
       "      <td>day</td>\n",
       "      <td>26</td>\n",
       "      <td>album</td>\n",
       "      <td>spotify:album:4DRY3GaeFjBBcd55gw6Orr</td>\n",
       "      <td>FRDEO2100100</td>\n",
       "      <td>https://open.spotify.com/track/5vwky4XJbSFMH4g...</td>\n",
       "    </tr>\n",
       "    <tr>\n",
       "      <th>2</th>\n",
       "      <td>[{'external_urls': {'spotify': 'https://open.s...</td>\n",
       "      <td>[AD, AE, AG, AL, AM, AO, AR, AT, AU, AZ, BA, B...</td>\n",
       "      <td>1</td>\n",
       "      <td>189026</td>\n",
       "      <td>True</td>\n",
       "      <td>https://api.spotify.com/v1/tracks/6VMrG12u9D3q...</td>\n",
       "      <td>6VMrG12u9D3qZ24DsOtgOZ</td>\n",
       "      <td>False</td>\n",
       "      <td>Legend</td>\n",
       "      <td>45</td>\n",
       "      <td>...</td>\n",
       "      <td>4DRY3GaeFjBBcd55gw6Orr</td>\n",
       "      <td>[{'height': 640, 'url': 'https://i.scdn.co/ima...</td>\n",
       "      <td>Grand Monsieur</td>\n",
       "      <td>2021-12-09</td>\n",
       "      <td>day</td>\n",
       "      <td>26</td>\n",
       "      <td>album</td>\n",
       "      <td>spotify:album:4DRY3GaeFjBBcd55gw6Orr</td>\n",
       "      <td>FRDEO2100110</td>\n",
       "      <td>https://open.spotify.com/track/6VMrG12u9D3qZ24...</td>\n",
       "    </tr>\n",
       "    <tr>\n",
       "      <th>3</th>\n",
       "      <td>[{'external_urls': {'spotify': 'https://open.s...</td>\n",
       "      <td>[AD, AE, AG, AL, AM, AO, AR, AT, AU, AZ, BA, B...</td>\n",
       "      <td>1</td>\n",
       "      <td>201680</td>\n",
       "      <td>True</td>\n",
       "      <td>https://api.spotify.com/v1/tracks/2rDZcRjZNR7R...</td>\n",
       "      <td>2rDZcRjZNR7RmDfeQiz3R7</td>\n",
       "      <td>False</td>\n",
       "      <td>Hall of Fame</td>\n",
       "      <td>31</td>\n",
       "      <td>...</td>\n",
       "      <td>4DRY3GaeFjBBcd55gw6Orr</td>\n",
       "      <td>[{'height': 640, 'url': 'https://i.scdn.co/ima...</td>\n",
       "      <td>Grand Monsieur</td>\n",
       "      <td>2021-12-09</td>\n",
       "      <td>day</td>\n",
       "      <td>26</td>\n",
       "      <td>album</td>\n",
       "      <td>spotify:album:4DRY3GaeFjBBcd55gw6Orr</td>\n",
       "      <td>FRDEO2100120</td>\n",
       "      <td>https://open.spotify.com/track/2rDZcRjZNR7RmDf...</td>\n",
       "    </tr>\n",
       "    <tr>\n",
       "      <th>4</th>\n",
       "      <td>[{'external_urls': {'spotify': 'https://open.s...</td>\n",
       "      <td>[AD, AE, AG, AL, AM, AO, AR, AT, AU, AZ, BA, B...</td>\n",
       "      <td>1</td>\n",
       "      <td>243533</td>\n",
       "      <td>True</td>\n",
       "      <td>https://api.spotify.com/v1/tracks/1cWy3m4USKjI...</td>\n",
       "      <td>1cWy3m4USKjIA08zDQfIyb</td>\n",
       "      <td>False</td>\n",
       "      <td>Trop d'histoires</td>\n",
       "      <td>33</td>\n",
       "      <td>...</td>\n",
       "      <td>4DRY3GaeFjBBcd55gw6Orr</td>\n",
       "      <td>[{'height': 640, 'url': 'https://i.scdn.co/ima...</td>\n",
       "      <td>Grand Monsieur</td>\n",
       "      <td>2021-12-09</td>\n",
       "      <td>day</td>\n",
       "      <td>26</td>\n",
       "      <td>album</td>\n",
       "      <td>spotify:album:4DRY3GaeFjBBcd55gw6Orr</td>\n",
       "      <td>FRDEO2100140</td>\n",
       "      <td>https://open.spotify.com/track/1cWy3m4USKjIA08...</td>\n",
       "    </tr>\n",
       "    <tr>\n",
       "      <th>...</th>\n",
       "      <td>...</td>\n",
       "      <td>...</td>\n",
       "      <td>...</td>\n",
       "      <td>...</td>\n",
       "      <td>...</td>\n",
       "      <td>...</td>\n",
       "      <td>...</td>\n",
       "      <td>...</td>\n",
       "      <td>...</td>\n",
       "      <td>...</td>\n",
       "      <td>...</td>\n",
       "      <td>...</td>\n",
       "      <td>...</td>\n",
       "      <td>...</td>\n",
       "      <td>...</td>\n",
       "      <td>...</td>\n",
       "      <td>...</td>\n",
       "      <td>...</td>\n",
       "      <td>...</td>\n",
       "      <td>...</td>\n",
       "      <td>...</td>\n",
       "    </tr>\n",
       "    <tr>\n",
       "      <th>366</th>\n",
       "      <td>[{'external_urls': {'spotify': 'https://open.s...</td>\n",
       "      <td>[AD, AE, AG, AL, AM, AO, AR, AT, AU, AZ, BA, B...</td>\n",
       "      <td>1</td>\n",
       "      <td>529253</td>\n",
       "      <td>False</td>\n",
       "      <td>https://api.spotify.com/v1/tracks/426gyjWZw2NC...</td>\n",
       "      <td>426gyjWZw2NC4YGByKXQtg</td>\n",
       "      <td>False</td>\n",
       "      <td>Darwah</td>\n",
       "      <td>9</td>\n",
       "      <td>...</td>\n",
       "      <td>4Gj7pfzDRQ0s0luGOgaPnr</td>\n",
       "      <td>[{'height': 640, 'url': 'https://i.scdn.co/ima...</td>\n",
       "      <td>La vie avant la mort</td>\n",
       "      <td>2001</td>\n",
       "      <td>year</td>\n",
       "      <td>16</td>\n",
       "      <td>album</td>\n",
       "      <td>spotify:album:4Gj7pfzDRQ0s0luGOgaPnr</td>\n",
       "      <td>FRY680108660</td>\n",
       "      <td>https://open.spotify.com/track/426gyjWZw2NC4YG...</td>\n",
       "    </tr>\n",
       "    <tr>\n",
       "      <th>367</th>\n",
       "      <td>[{'external_urls': {'spotify': 'https://open.s...</td>\n",
       "      <td>[AD, AE, AG, AL, AM, AO, AR, AT, AU, AZ, BA, B...</td>\n",
       "      <td>1</td>\n",
       "      <td>193007</td>\n",
       "      <td>True</td>\n",
       "      <td>https://api.spotify.com/v1/tracks/264z3AZLnweM...</td>\n",
       "      <td>264z3AZLnweMna9uhAmb03</td>\n",
       "      <td>False</td>\n",
       "      <td>Masterclass</td>\n",
       "      <td>54</td>\n",
       "      <td>...</td>\n",
       "      <td>5xsI7BvOX6FsKfpyot04tv</td>\n",
       "      <td>[{'height': 640, 'url': 'https://i.scdn.co/ima...</td>\n",
       "      <td>Masterclass</td>\n",
       "      <td>2022-11-02</td>\n",
       "      <td>day</td>\n",
       "      <td>1</td>\n",
       "      <td>album</td>\n",
       "      <td>spotify:album:5xsI7BvOX6FsKfpyot04tv</td>\n",
       "      <td>FRDEO2200350</td>\n",
       "      <td>https://open.spotify.com/track/264z3AZLnweMna9...</td>\n",
       "    </tr>\n",
       "    <tr>\n",
       "      <th>368</th>\n",
       "      <td>[{'external_urls': {'spotify': 'https://open.s...</td>\n",
       "      <td>[AD, AE, AG, AL, AM, AO, AR, AT, AU, AZ, BA, B...</td>\n",
       "      <td>1</td>\n",
       "      <td>197746</td>\n",
       "      <td>True</td>\n",
       "      <td>https://api.spotify.com/v1/tracks/0se9I79YLllb...</td>\n",
       "      <td>0se9I79YLllbhmly6aAf1a</td>\n",
       "      <td>False</td>\n",
       "      <td>Life Style</td>\n",
       "      <td>42</td>\n",
       "      <td>...</td>\n",
       "      <td>2FjpJocL0fiXUtNgwpvGbw</td>\n",
       "      <td>[{'height': 640, 'url': 'https://i.scdn.co/ima...</td>\n",
       "      <td>Life Style</td>\n",
       "      <td>2022-07-27</td>\n",
       "      <td>day</td>\n",
       "      <td>1</td>\n",
       "      <td>album</td>\n",
       "      <td>spotify:album:2FjpJocL0fiXUtNgwpvGbw</td>\n",
       "      <td>FRDEO2200340</td>\n",
       "      <td>https://open.spotify.com/track/0se9I79YLllbhml...</td>\n",
       "    </tr>\n",
       "    <tr>\n",
       "      <th>369</th>\n",
       "      <td>[{'external_urls': {'spotify': 'https://open.s...</td>\n",
       "      <td>[AD, AE, AG, AL, AM, AO, AR, AT, AU, AZ, BA, B...</td>\n",
       "      <td>1</td>\n",
       "      <td>195147</td>\n",
       "      <td>False</td>\n",
       "      <td>https://api.spotify.com/v1/tracks/5Grn8u9Vsk8l...</td>\n",
       "      <td>5Grn8u9Vsk8lGsKYM7P11T</td>\n",
       "      <td>False</td>\n",
       "      <td>Dansa</td>\n",
       "      <td>20</td>\n",
       "      <td>...</td>\n",
       "      <td>2tEyrxc6U4JDkzlygSOJCL</td>\n",
       "      <td>[{'height': 640, 'url': 'https://i.scdn.co/ima...</td>\n",
       "      <td>Dansa</td>\n",
       "      <td>2022-06-30</td>\n",
       "      <td>day</td>\n",
       "      <td>1</td>\n",
       "      <td>album</td>\n",
       "      <td>spotify:album:2tEyrxc6U4JDkzlygSOJCL</td>\n",
       "      <td>FR9W12220121</td>\n",
       "      <td>https://open.spotify.com/track/5Grn8u9Vsk8lGsK...</td>\n",
       "    </tr>\n",
       "    <tr>\n",
       "      <th>370</th>\n",
       "      <td>[{'external_urls': {'spotify': 'https://open.s...</td>\n",
       "      <td>[AD, AG, AL, AO, AR, AT, BA, BB, BE, BF, BG, B...</td>\n",
       "      <td>1</td>\n",
       "      <td>226290</td>\n",
       "      <td>True</td>\n",
       "      <td>https://api.spotify.com/v1/tracks/2RUfVkh6arLu...</td>\n",
       "      <td>2RUfVkh6arLuCbdeUjlA82</td>\n",
       "      <td>False</td>\n",
       "      <td>Je suis l'94</td>\n",
       "      <td>33</td>\n",
       "      <td>...</td>\n",
       "      <td>66l376MGDJnojkC0RwOmFH</td>\n",
       "      <td>[{'height': 640, 'url': 'https://i.scdn.co/ima...</td>\n",
       "      <td>Je suis l'94</td>\n",
       "      <td>2022-06-09</td>\n",
       "      <td>day</td>\n",
       "      <td>1</td>\n",
       "      <td>album</td>\n",
       "      <td>spotify:album:66l376MGDJnojkC0RwOmFH</td>\n",
       "      <td>FRX202205387</td>\n",
       "      <td>https://open.spotify.com/track/2RUfVkh6arLuCbd...</td>\n",
       "    </tr>\n",
       "  </tbody>\n",
       "</table>\n",
       "<p>371 rows × 29 columns</p>\n",
       "</div>"
      ]
     },
     "metadata": {},
     "output_type": "display_data"
    }
   ],
   "metadata": {
    "datalore": {
     "node_id": "dQRhpVQl4QjME2A4dS0OYv",
     "type": "CODE",
     "hide_input_from_viewers": false,
     "hide_output_from_viewers": false
    }
   }
  },
  {
   "cell_type": "code",
   "source": [
    "df_spotify_all_songs.shape"
   ],
   "execution_count": 47,
   "outputs": [
    {
     "data": {
      "text/plain": [
       "(371, 29)"
      ]
     },
     "metadata": {},
     "output_type": "display_data"
    }
   ],
   "metadata": {
    "datalore": {
     "node_id": "i2BrCK6ZWdQSsCcPw6WVGY",
     "type": "CODE",
     "hide_input_from_viewers": false,
     "hide_output_from_viewers": false
    }
   }
  },
  {
   "cell_type": "code",
   "source": [
    "df_spotify_all_songs['album.name'].value_counts()"
   ],
   "execution_count": 48,
   "outputs": [
    {
     "data": {
      "text/html": []
     },
     "metadata": {},
     "output_type": "display_data"
    }
   ],
   "metadata": {
    "datalore": {
     "node_id": "xYlz8vjZY7diKA9v2tT7Wi",
     "type": "CODE",
     "hide_input_from_viewers": false,
     "hide_output_from_viewers": false
    }
   }
  },
  {
   "cell_type": "code",
   "source": [
    "df_spotify_all_songs['album.name'].value_counts().sum()"
   ],
   "execution_count": 59,
   "outputs": [
    {
     "data": {
      "text/plain": [
       "371"
      ]
     },
     "metadata": {},
     "output_type": "display_data"
    }
   ],
   "metadata": {
    "datalore": {
     "node_id": "SFNU4SdyXNeOTCOUcb2vNI",
     "type": "CODE",
     "hide_input_from_viewers": false,
     "hide_output_from_viewers": false
    }
   }
  },
  {
   "cell_type": "code",
   "source": [
    "df_spotify_all_songs.sort_values(by=\"popularity\", ascending=False)"
   ],
   "execution_count": 61,
   "outputs": [
    {
     "data": {
      "text/html": [
       "<div>\n",
       "<style scoped>\n",
       "    .dataframe tbody tr th:only-of-type {\n",
       "        vertical-align: middle;\n",
       "    }\n",
       "\n",
       "    .dataframe tbody tr th {\n",
       "        vertical-align: top;\n",
       "    }\n",
       "\n",
       "    .dataframe thead th {\n",
       "        text-align: right;\n",
       "    }\n",
       "</style>\n",
       "<table border=\"1\" class=\"dataframe\">\n",
       "  <thead>\n",
       "    <tr style=\"text-align: right;\">\n",
       "      <th></th>\n",
       "      <th>artists</th>\n",
       "      <th>available_markets</th>\n",
       "      <th>disc_number</th>\n",
       "      <th>duration_ms</th>\n",
       "      <th>explicit</th>\n",
       "      <th>href</th>\n",
       "      <th>id</th>\n",
       "      <th>is_local</th>\n",
       "      <th>name</th>\n",
       "      <th>popularity</th>\n",
       "      <th>...</th>\n",
       "      <th>album.id</th>\n",
       "      <th>album.images</th>\n",
       "      <th>album.name</th>\n",
       "      <th>album.release_date</th>\n",
       "      <th>album.release_date_precision</th>\n",
       "      <th>album.total_tracks</th>\n",
       "      <th>album.type</th>\n",
       "      <th>album.uri</th>\n",
       "      <th>external_ids.isrc</th>\n",
       "      <th>external_urls.spotify</th>\n",
       "    </tr>\n",
       "  </thead>\n",
       "  <tbody>\n",
       "    <tr>\n",
       "      <th>367</th>\n",
       "      <td>[{'external_urls': {'spotify': 'https://open.s...</td>\n",
       "      <td>[AD, AE, AG, AL, AM, AO, AR, AT, AU, AZ, BA, B...</td>\n",
       "      <td>1</td>\n",
       "      <td>197746</td>\n",
       "      <td>True</td>\n",
       "      <td>https://api.spotify.com/v1/tracks/5e1Vv6n2jY8t...</td>\n",
       "      <td>5e1Vv6n2jY8tV9argArQeQ</td>\n",
       "      <td>False</td>\n",
       "      <td>Life Style</td>\n",
       "      <td>64</td>\n",
       "      <td>...</td>\n",
       "      <td>29258GNVuTOf7ibC0CazYH</td>\n",
       "      <td>[{'height': 640, 'url': 'https://i.scdn.co/ima...</td>\n",
       "      <td>Life Style</td>\n",
       "      <td>2022-07-27</td>\n",
       "      <td>day</td>\n",
       "      <td>1</td>\n",
       "      <td>album</td>\n",
       "      <td>spotify:album:29258GNVuTOf7ibC0CazYH</td>\n",
       "      <td>FRDEO2200340</td>\n",
       "      <td>https://open.spotify.com/track/5e1Vv6n2jY8tV9a...</td>\n",
       "    </tr>\n",
       "    <tr>\n",
       "      <th>340</th>\n",
       "      <td>[{'external_urls': {'spotify': 'https://open.s...</td>\n",
       "      <td>[AD, AE, AG, AL, AM, AO, AR, AT, AU, AZ, BA, B...</td>\n",
       "      <td>1</td>\n",
       "      <td>244360</td>\n",
       "      <td>False</td>\n",
       "      <td>https://api.spotify.com/v1/tracks/77pB3BxEgaSZ...</td>\n",
       "      <td>77pB3BxEgaSZIbJ4uQflS8</td>\n",
       "      <td>False</td>\n",
       "      <td>Qui est l'exemple ?</td>\n",
       "      <td>55</td>\n",
       "      <td>...</td>\n",
       "      <td>1q3iVUJaoIi3LWeiD3FUrf</td>\n",
       "      <td>[{'height': 640, 'url': 'https://i.scdn.co/ima...</td>\n",
       "      <td>La vie avant la mort</td>\n",
       "      <td>2001</td>\n",
       "      <td>year</td>\n",
       "      <td>17</td>\n",
       "      <td>album</td>\n",
       "      <td>spotify:album:1q3iVUJaoIi3LWeiD3FUrf</td>\n",
       "      <td>FRY680108580</td>\n",
       "      <td>https://open.spotify.com/track/77pB3BxEgaSZIbJ...</td>\n",
       "    </tr>\n",
       "    <tr>\n",
       "      <th>317</th>\n",
       "      <td>[{'external_urls': {'spotify': 'https://open.s...</td>\n",
       "      <td>[AD, AE, AG, AL, AM, AO, AR, AT, AU, AZ, BA, B...</td>\n",
       "      <td>1</td>\n",
       "      <td>224200</td>\n",
       "      <td>False</td>\n",
       "      <td>https://api.spotify.com/v1/tracks/3ee6eXqZqJo3...</td>\n",
       "      <td>3ee6eXqZqJo3DJEiBr1SHs</td>\n",
       "      <td>False</td>\n",
       "      <td>Le Son qui tue</td>\n",
       "      <td>53</td>\n",
       "      <td>...</td>\n",
       "      <td>5Cp07JiZnqruQBNZb88OCf</td>\n",
       "      <td>[{'height': 640, 'url': 'https://i.scdn.co/ima...</td>\n",
       "      <td>la fierte des notres</td>\n",
       "      <td>2004-06-18</td>\n",
       "      <td>day</td>\n",
       "      <td>30</td>\n",
       "      <td>album</td>\n",
       "      <td>spotify:album:5Cp07JiZnqruQBNZb88OCf</td>\n",
       "      <td>FRY680400077</td>\n",
       "      <td>https://open.spotify.com/track/3ee6eXqZqJo3DJE...</td>\n",
       "    </tr>\n",
       "    <tr>\n",
       "      <th>178</th>\n",
       "      <td>[{'external_urls': {'spotify': 'https://open.s...</td>\n",
       "      <td>[AD, AE, AG, AL, AM, AO, AR, AT, AU, AZ, BA, B...</td>\n",
       "      <td>1</td>\n",
       "      <td>313920</td>\n",
       "      <td>True</td>\n",
       "      <td>https://api.spotify.com/v1/tracks/1NToPvQe9pgb...</td>\n",
       "      <td>1NToPvQe9pgbymMn3LdD2M</td>\n",
       "      <td>False</td>\n",
       "      <td>Thug Mariage - feat. Indila</td>\n",
       "      <td>52</td>\n",
       "      <td>...</td>\n",
       "      <td>6TZKXBkEjUOWV1Hcwv75gR</td>\n",
       "      <td>[{'height': 640, 'url': 'https://i.scdn.co/ima...</td>\n",
       "      <td>La cuenta</td>\n",
       "      <td>2010-12-08</td>\n",
       "      <td>day</td>\n",
       "      <td>18</td>\n",
       "      <td>album</td>\n",
       "      <td>spotify:album:6TZKXBkEjUOWV1Hcwv75gR</td>\n",
       "      <td>FRZ111002322</td>\n",
       "      <td>https://open.spotify.com/track/1NToPvQe9pgbymM...</td>\n",
       "    </tr>\n",
       "    <tr>\n",
       "      <th>257</th>\n",
       "      <td>[{'external_urls': {'spotify': 'https://open.s...</td>\n",
       "      <td>[AD, AE, AG, AL, AM, AO, AR, AT, AU, AZ, BA, B...</td>\n",
       "      <td>1</td>\n",
       "      <td>255266</td>\n",
       "      <td>False</td>\n",
       "      <td>https://api.spotify.com/v1/tracks/1cWxCvep4soX...</td>\n",
       "      <td>1cWxCvep4soXYHkXDmJpSg</td>\n",
       "      <td>False</td>\n",
       "      <td>La Puissance</td>\n",
       "      <td>50</td>\n",
       "      <td>...</td>\n",
       "      <td>75ATPVeLbZcI8awnPVNAqK</td>\n",
       "      <td>[{'height': 640, 'url': 'https://i.scdn.co/ima...</td>\n",
       "      <td>Au-Delà De Mes Limites</td>\n",
       "      <td>2005-12-16</td>\n",
       "      <td>day</td>\n",
       "      <td>29</td>\n",
       "      <td>album</td>\n",
       "      <td>spotify:album:75ATPVeLbZcI8awnPVNAqK</td>\n",
       "      <td>FRZ110500339</td>\n",
       "      <td>https://open.spotify.com/track/1cWxCvep4soXYHk...</td>\n",
       "    </tr>\n",
       "    <tr>\n",
       "      <th>...</th>\n",
       "      <td>...</td>\n",
       "      <td>...</td>\n",
       "      <td>...</td>\n",
       "      <td>...</td>\n",
       "      <td>...</td>\n",
       "      <td>...</td>\n",
       "      <td>...</td>\n",
       "      <td>...</td>\n",
       "      <td>...</td>\n",
       "      <td>...</td>\n",
       "      <td>...</td>\n",
       "      <td>...</td>\n",
       "      <td>...</td>\n",
       "      <td>...</td>\n",
       "      <td>...</td>\n",
       "      <td>...</td>\n",
       "      <td>...</td>\n",
       "      <td>...</td>\n",
       "      <td>...</td>\n",
       "      <td>...</td>\n",
       "      <td>...</td>\n",
       "    </tr>\n",
       "    <tr>\n",
       "      <th>66</th>\n",
       "      <td>[{'external_urls': {'spotify': 'https://open.s...</td>\n",
       "      <td>[JP]</td>\n",
       "      <td>1</td>\n",
       "      <td>302466</td>\n",
       "      <td>True</td>\n",
       "      <td>https://api.spotify.com/v1/tracks/2ZbSP9nCjV4i...</td>\n",
       "      <td>2ZbSP9nCjV4iRC1L5QkWx1</td>\n",
       "      <td>False</td>\n",
       "      <td>Vitry Sur Haine</td>\n",
       "      <td>0</td>\n",
       "      <td>...</td>\n",
       "      <td>2cYBBD9KnkJJrGJe48X3Aq</td>\n",
       "      <td>[{'height': 640, 'url': 'https://i.scdn.co/ima...</td>\n",
       "      <td>Le Rohff Game</td>\n",
       "      <td>2015-12-04</td>\n",
       "      <td>day</td>\n",
       "      <td>19</td>\n",
       "      <td>album</td>\n",
       "      <td>spotify:album:2cYBBD9KnkJJrGJe48X3Aq</td>\n",
       "      <td>FR9W11516374</td>\n",
       "      <td>https://open.spotify.com/track/2ZbSP9nCjV4iRC1...</td>\n",
       "    </tr>\n",
       "    <tr>\n",
       "      <th>65</th>\n",
       "      <td>[{'external_urls': {'spotify': 'https://open.s...</td>\n",
       "      <td>[JP]</td>\n",
       "      <td>1</td>\n",
       "      <td>232760</td>\n",
       "      <td>True</td>\n",
       "      <td>https://api.spotify.com/v1/tracks/3hd8ANwZy9py...</td>\n",
       "      <td>3hd8ANwZy9pyl42ia7RTco</td>\n",
       "      <td>False</td>\n",
       "      <td>Trop gang</td>\n",
       "      <td>0</td>\n",
       "      <td>...</td>\n",
       "      <td>2cYBBD9KnkJJrGJe48X3Aq</td>\n",
       "      <td>[{'height': 640, 'url': 'https://i.scdn.co/ima...</td>\n",
       "      <td>Le Rohff Game</td>\n",
       "      <td>2015-12-04</td>\n",
       "      <td>day</td>\n",
       "      <td>19</td>\n",
       "      <td>album</td>\n",
       "      <td>spotify:album:2cYBBD9KnkJJrGJe48X3Aq</td>\n",
       "      <td>FR9W11516379</td>\n",
       "      <td>https://open.spotify.com/track/3hd8ANwZy9pyl42...</td>\n",
       "    </tr>\n",
       "    <tr>\n",
       "      <th>64</th>\n",
       "      <td>[{'external_urls': {'spotify': 'https://open.s...</td>\n",
       "      <td>[JP]</td>\n",
       "      <td>1</td>\n",
       "      <td>231466</td>\n",
       "      <td>True</td>\n",
       "      <td>https://api.spotify.com/v1/tracks/315aoMFXJjQU...</td>\n",
       "      <td>315aoMFXJjQUxR4nK1uY9L</td>\n",
       "      <td>False</td>\n",
       "      <td>Bitch n'a pas de coeur</td>\n",
       "      <td>0</td>\n",
       "      <td>...</td>\n",
       "      <td>2cYBBD9KnkJJrGJe48X3Aq</td>\n",
       "      <td>[{'height': 640, 'url': 'https://i.scdn.co/ima...</td>\n",
       "      <td>Le Rohff Game</td>\n",
       "      <td>2015-12-04</td>\n",
       "      <td>day</td>\n",
       "      <td>19</td>\n",
       "      <td>album</td>\n",
       "      <td>spotify:album:2cYBBD9KnkJJrGJe48X3Aq</td>\n",
       "      <td>FR9W11516377</td>\n",
       "      <td>https://open.spotify.com/track/315aoMFXJjQUxR4...</td>\n",
       "    </tr>\n",
       "    <tr>\n",
       "      <th>63</th>\n",
       "      <td>[{'external_urls': {'spotify': 'https://open.s...</td>\n",
       "      <td>[JP]</td>\n",
       "      <td>1</td>\n",
       "      <td>249573</td>\n",
       "      <td>True</td>\n",
       "      <td>https://api.spotify.com/v1/tracks/27RwUnET39rp...</td>\n",
       "      <td>27RwUnET39rp1sLpGdlwrs</td>\n",
       "      <td>False</td>\n",
       "      <td>Bijou</td>\n",
       "      <td>0</td>\n",
       "      <td>...</td>\n",
       "      <td>2cYBBD9KnkJJrGJe48X3Aq</td>\n",
       "      <td>[{'height': 640, 'url': 'https://i.scdn.co/ima...</td>\n",
       "      <td>Le Rohff Game</td>\n",
       "      <td>2015-12-04</td>\n",
       "      <td>day</td>\n",
       "      <td>19</td>\n",
       "      <td>album</td>\n",
       "      <td>spotify:album:2cYBBD9KnkJJrGJe48X3Aq</td>\n",
       "      <td>FR9W11516376</td>\n",
       "      <td>https://open.spotify.com/track/27RwUnET39rp1sL...</td>\n",
       "    </tr>\n",
       "    <tr>\n",
       "      <th>57</th>\n",
       "      <td>[{'external_urls': {'spotify': 'https://open.s...</td>\n",
       "      <td>[JP]</td>\n",
       "      <td>1</td>\n",
       "      <td>325480</td>\n",
       "      <td>True</td>\n",
       "      <td>https://api.spotify.com/v1/tracks/1F0U5Rlh7GtZ...</td>\n",
       "      <td>1F0U5Rlh7GtZ9tyot11vO2</td>\n",
       "      <td>False</td>\n",
       "      <td>Rohff Game</td>\n",
       "      <td>0</td>\n",
       "      <td>...</td>\n",
       "      <td>2cYBBD9KnkJJrGJe48X3Aq</td>\n",
       "      <td>[{'height': 640, 'url': 'https://i.scdn.co/ima...</td>\n",
       "      <td>Le Rohff Game</td>\n",
       "      <td>2015-12-04</td>\n",
       "      <td>day</td>\n",
       "      <td>19</td>\n",
       "      <td>album</td>\n",
       "      <td>spotify:album:2cYBBD9KnkJJrGJe48X3Aq</td>\n",
       "      <td>FR9W11515949</td>\n",
       "      <td>https://open.spotify.com/track/1F0U5Rlh7GtZ9ty...</td>\n",
       "    </tr>\n",
       "  </tbody>\n",
       "</table>\n",
       "<p>371 rows × 29 columns</p>\n",
       "</div>"
      ]
     },
     "metadata": {},
     "output_type": "display_data"
    }
   ],
   "metadata": {
    "datalore": {
     "node_id": "cxBJpGFflO8ILrL0Midtyx",
     "type": "CODE",
     "hide_input_from_viewers": false,
     "hide_output_from_viewers": false
    }
   }
  },
  {
   "cell_type": "code",
   "source": [
    "df_spotify_all_songs.info(verbose=True, null_counts=True)"
   ],
   "execution_count": 56,
   "outputs": [
    {
     "name": "stdout",
     "text": [
      "<class 'pandas.core.frame.DataFrame'>\n",
      "RangeIndex: 371 entries, 0 to 370\n",
      "Data columns (total 29 columns):\n",
      " #   Column                        Non-Null Count  Dtype \n",
      "---  ------                        --------------  ----- \n",
      " 0   artists                       371 non-null    object\n",
      " 1   available_markets             371 non-null    object\n",
      " 2   disc_number                   371 non-null    int64 \n",
      " 3   duration_ms                   371 non-null    int64 \n",
      " 4   explicit                      371 non-null    bool  \n",
      " 5   href                          371 non-null    object\n",
      " 6   id                            371 non-null    object\n",
      " 7   is_local                      371 non-null    bool  \n",
      " 8   name                          371 non-null    object\n",
      " 9   popularity                    371 non-null    int64 \n",
      " 10  preview_url                   303 non-null    object\n",
      " 11  track_number                  371 non-null    int64 \n",
      " 12  type                          371 non-null    object\n",
      " 13  uri                           371 non-null    object\n",
      " 14  album.album_type              371 non-null    object\n",
      " 15  album.artists                 371 non-null    object\n",
      " 16  album.available_markets       371 non-null    object\n",
      " 17  album.external_urls           371 non-null    object\n",
      " 18  album.href                    371 non-null    object\n",
      " 19  album.id                      371 non-null    object\n",
      " 20  album.images                  371 non-null    object\n",
      " 21  album.name                    371 non-null    object\n",
      " 22  album.release_date            371 non-null    object\n",
      " 23  album.release_date_precision  371 non-null    object\n",
      " 24  album.total_tracks            371 non-null    int64 \n",
      " 25  album.type                    371 non-null    object\n",
      " 26  album.uri                     371 non-null    object\n",
      " 27  external_ids.isrc             371 non-null    object\n",
      " 28  external_urls.spotify         371 non-null    object\n",
      "dtypes: bool(2), int64(5), object(22)\n",
      "memory usage: 79.1+ KB\n"
     ],
     "output_type": "stream"
    },
    {
     "name": "stderr",
     "text": [
      "<ipython-input-56-7aadc1dd205e>:1: FutureWarning: null_counts is deprecated. Use show_counts instead\n",
      "  df_spotify_all_songs.info(verbose=True, null_counts=True)\n"
     ],
     "output_type": "stream"
    }
   ],
   "metadata": {
    "datalore": {
     "node_id": "DVu6gOehIBiqc3YOr9KwYW",
     "type": "CODE",
     "hide_input_from_viewers": false,
     "hide_output_from_viewers": false
    }
   }
  },
  {
   "cell_type": "code",
   "source": [
    "df_spotify_all_songs.to_csv(\"%sdf_spotify_%s_all_songs_%s\" % (WORKSPACE_FOLDER_PATH, ARTIST_NAME.lower().replace(\" \", \"\"), datetime.now().strftime(\"%Y%m%d\")),index=False)"
   ],
   "execution_count": 55,
   "outputs": [],
   "metadata": {
    "datalore": {
     "node_id": "BZHigXMEsb0aIakG3Qo3Sj",
     "type": "CODE",
     "hide_input_from_viewers": false,
     "hide_output_from_viewers": false
    }
   }
  }
 ],
 "metadata": {
  "kernelspec": {
   "display_name": "Python",
   "language": "python",
   "name": "python"
  },
  "datalore": {
   "version": 1,
   "computation_mode": "JUPYTER",
   "package_manager": "pip",
   "base_environment": "default",
   "packages": [
    {
     "name": "spotipy",
     "version": "2.20.0",
     "source": "PIP"
    }
   ]
  }
 },
 "nbformat": 4,
 "nbformat_minor": 4
}
