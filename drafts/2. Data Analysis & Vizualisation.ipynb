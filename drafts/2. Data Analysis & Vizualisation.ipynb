{
 "cells": [
  {
   "cell_type": "code",
   "source": [
    "import pandas as pd\n",
    "from glob import glob"
   ],
   "execution_count": null,
   "outputs": [],
   "metadata": {
    "datalore": {
     "node_id": "DmikOENRQaRSm5SpVkbbKf",
     "type": "CODE",
     "hide_input_from_viewers": false,
     "hide_output_from_viewers": false
    },
    "pycharm": {
     "is_executing": true
    }
   }
  },
  {
   "cell_type": "code",
   "execution_count": null,
   "outputs": [],
   "source": [
    "def get_all_csv_files(dir_path):\n",
    "    if files := glob(f\"{dir_path}/*/**.csv\"):\n",
    "        return pd.concat(files,ignore_index=True)\n",
    "    return None\n",
    "\n",
    "df_all_data = get_all_csv_files(\"data\")\n",
    "df_all_data"
   ],
   "metadata": {
    "collapsed": false,
    "pycharm": {
     "is_executing": true
    }
   }
  },
  {
   "cell_type": "code",
   "source": [
    "df_all_data.shape"
   ],
   "execution_count": null,
   "outputs": [],
   "metadata": {
    "datalore": {
     "node_id": "rgkmE2wYOdJOh2cBbSmgGg",
     "type": "CODE",
     "hide_input_from_viewers": false,
     "hide_output_from_viewers": false
    },
    "pycharm": {
     "is_executing": true
    }
   }
  },
  {
   "cell_type": "code",
   "source": [
    "def count_words(text):\n",
    "    return len(text.split(\" \"))\n",
    "\n",
    "df_all_data[\"lyrics_words_count\"] = df_all_data['lyrics'].apply(lambda x: count_words(x))\n",
    "\n",
    "df_all_data[\"lyrics_words_count\"].describe()"
   ],
   "execution_count": 9,
   "outputs": [
    {
     "data": {
      "text/html": [
       "<pre>count     334.000000\n",
       "mean      598.769461\n",
       "std       447.797524\n",
       "min         3.000000\n",
       "25%       432.500000\n",
       "50%       536.500000\n",
       "75%       670.000000\n",
       "max      4773.000000\n",
       "Name: lyrics_words_count, dtype: float64</pre>"
      ]
     },
     "metadata": {},
     "output_type": "display_data"
    }
   ],
   "metadata": {
    "datalore": {
     "node_id": "kDFz6gHRyLr9J948gc912q",
     "type": "CODE",
     "hide_input_from_viewers": false,
     "hide_output_from_viewers": false
    }
   }
  },
  {
   "cell_type": "code",
   "source": [
    "df[\"lyrics_words_count\"].sum()"
   ],
   "execution_count": 10,
   "outputs": [
    {
     "data": {
      "text/plain": [
       "199989"
      ]
     },
     "metadata": {},
     "output_type": "display_data"
    }
   ],
   "metadata": {
    "datalore": {
     "node_id": "LOE6PyBQxRmX2jJaaG4sBw",
     "type": "CODE",
     "hide_input_from_viewers": false,
     "hide_output_from_viewers": false
    }
   }
  },
  {
   "cell_type": "code",
   "source": [
    "df_complete_discographie[\"album.name\"].value_counts().sort_values().plot(kind='barh',figsize=(9,6),color=COLOR_1)\n",
    "plt.title(\"Nombre de titres par albums\\n\", fontsize=18, color=COLOR_TITLE)\n",
    "#plt.xlabel('\\nArrondissements', fontsize=11, color=COLOR_LABEL)\n",
    "plt.ylabel(\"Albums\\n\", fontsize=11, color=COLOR_LABEL)\n",
    "plt.show()"
   ],
   "execution_count": null,
   "outputs": [],
   "metadata": {
    "datalore": {
     "node_id": "9IZJKltrbsSqqDXBm7iA0K",
     "type": "CODE",
     "hide_input_from_viewers": false,
     "hide_output_from_viewers": false
    }
   }
  },
  {
   "cell_type": "code",
   "source": [
    "YEARS_ROHFF_DISCOGRAPHY = sorted(df_complete_discographie[\"release_date_components.year\"].unique().tolist())\n",
    "YEARS_ROHFF_DISCOGRAPHY"
   ],
   "execution_count": null,
   "outputs": [],
   "metadata": {
    "datalore": {
     "node_id": "Uw0yHy1yytKn2elT4S79Ew",
     "type": "CODE",
     "hide_input_from_viewers": false,
     "hide_output_from_viewers": false
    }
   }
  },
  {
   "cell_type": "code",
   "source": [
    "ax = df_complete_discographie.hist(column='release_date_components.year', grid=False, color='#A13333', figsize=(12, 8),\n",
    "                                   zorder=2)\n",
    "ax = ax[0]\n",
    "\n",
    "for x in ax:\n",
    "    \"\"\"\n",
    "    plt.title(\"Histogramme des nombres de titre publiés en fct des années\\n\", fontsize=18, color=COLOR_TITLE)\n",
    "    plt.xlabel('\\nAnnée', fontsize=11, color=COLOR_LABEL)\n",
    "    plt.xticks(np.arange(min(x), max(x)+1, 1.0))\n",
    "    plt.ylabel(\"Count\\n\", fontsize=11, color=COLOR_LABEL)\n",
    "    plt.show()\n",
    "    \"\"\"\n",
    "    # Despine\n",
    "    x.spines['right'].set_visible(False)\n",
    "    x.spines['top'].set_visible(False)\n",
    "    x.spines['left'].set_visible(False)\n",
    "    # Switch off ticks\n",
    "    #x.tick_params(axis=\"both\", which=\"both\", bottom=\"off\", top=\"off\", labelbottom=\"on\", left=\"off\", right=\"off\", labelleft=\"on\")\n",
    "    # Draw horizontal axis lines\n",
    "    vals = x.get_yticks()\n",
    "    for tick in vals:\n",
    "        x.axhline(y=tick, linestyle='dashed', alpha=0.5, color='#aaaaaa', zorder=1)\n",
    "\n",
    "    years_ticks = np.arange(min(YEARS_ROHFF_DISCOGRAPHY), max(YEARS_ROHFF_DISCOGRAPHY)+1, 3)\n",
    "    x.set_xticks(years_ticks)\n",
    "    x.set_xticklabels(years_ticks)\n",
    "    # title\n",
    "    x.set_title(\"\")\n",
    "    # Set x-axis label\n",
    "    x.set_xlabel(\"Année\", labelpad=20, weight='bold', size=12)\n",
    "\n",
    "    # Set y-axis label\n",
    "    x.set_ylabel(\"Nb Titres publiés\", labelpad=20, weight='bold', size=12)"
   ],
   "execution_count": null,
   "outputs": [],
   "metadata": {
    "datalore": {
     "node_id": "J86bfLSLlIrAQ6HgIMIiyv",
     "type": "CODE",
     "hide_input_from_viewers": false,
     "hide_output_from_viewers": false
    }
   }
  },
  {
   "cell_type": "code",
   "source": [
    "df_group_album_name = df_complete_discographie.groupby([\"album.name\"]).sum().sort_values(by=\"stats.pageviews\")\n",
    "df_group_album_name"
   ],
   "execution_count": null,
   "outputs": [],
   "metadata": {
    "datalore": {
     "node_id": "feOChJa4xeFL5XHDlPnhpm",
     "type": "CODE",
     "hide_input_from_viewers": false,
     "hide_output_from_viewers": false
    }
   }
  },
  {
   "cell_type": "code",
   "source": [
    "df_group_album_name[\"stats.pageviews\"].plot(kind='barh',figsize=(9,6),color=COLOR_1)\n",
    "plt.title(\"Statistique de popularité des albums sur Genius\\n\", fontsize=18, color=COLOR_TITLE)\n",
    "plt.xlabel('\\nNombre de vues', fontsize=11, color=COLOR_LABEL)\n",
    "plt.ylabel(\"Albums\\n\", fontsize=11, color=COLOR_LABEL)\n",
    "plt.show()"
   ],
   "execution_count": null,
   "outputs": [],
   "metadata": {
    "datalore": {
     "node_id": "hZcqKMKnlfItPynXN5RC8F",
     "type": "CODE",
     "hide_input_from_viewers": false,
     "hide_output_from_viewers": false
    }
   }
  }
 ],
 "metadata": {
  "kernelspec": {
   "display_name": "Python",
   "language": "python",
   "name": "python"
  },
  "datalore": {
   "version": 1,
   "computation_mode": "JUPYTER",
   "package_manager": "pip",
   "base_environment": "default",
   "packages": []
  }
 },
 "nbformat": 4,
 "nbformat_minor": 4
}
