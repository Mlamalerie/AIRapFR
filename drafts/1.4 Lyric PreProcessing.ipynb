{
 "cells":[
  {
   "cell_type":"code",
   "source":[
    "import ast"
   ],
   "execution_count":null,
   "outputs":[
    
   ],
   "metadata":{
    "datalore":{
     "node_id":"wdfrByYgI1DJZwDbeVUXQ8",
     "type":"CODE",
     "hide_input_from_viewers":false,
     "hide_output_from_viewers":false
    }
   }
  },
  {
   "cell_type":"code",
   "source":[
    "df_genius_all_songs[\"featured_artists\"] = df_genius_all_songs[\"featured_artists\"].apply(ast.literal_eval)\n",
    "df_genius_all_songs[\"featured_bool\"] = df_genius_all_songs[\"featured_artists\"].apply(lambda x : len(x) != 0)\n",
    "df_genius_all_songs[\"featured_bool\"] "
   ],
   "execution_count":null,
   "outputs":[
    
   ],
   "metadata":{
    "datalore":{
     "node_id":"mHtxvXG593naXQDXYYc3kR",
     "type":"CODE",
     "hide_input_from_viewers":false,
     "hide_output_from_viewers":false
    }
   }
  }
 ],
 "metadata":{
  "kernelspec":{
   "display_name":"Python",
   "language":"python",
   "name":"python"
  },
  "datalore":{
   "version":1,
   "computation_mode":"JUPYTER",
   "package_manager":"pip",
   "base_environment":"default",
   "packages":[
    
   ]
  }
 },
 "nbformat":4,
 "nbformat_minor":4
}