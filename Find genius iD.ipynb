{
 "cells": [
  {
   "cell_type": "code",
   "execution_count": 1,
   "metadata": {
    "collapsed": true
   },
   "outputs": [],
   "source": [
    "from data.lyrics_scrapper import get_genius_id_from_url, get_artist_from_id"
   ]
  },
  {
   "cell_type": "code",
   "execution_count": 6,
   "outputs": [
    {
     "name": "stdout",
     "output_type": "stream",
     "text": [
      "1324017 https://genius.com/artists/Mayo {'plain': \"Mayo est un rappeur français d'origine congolaise, venant de Stains, en Seine-Saint-Denis (93).\\n\\nAlors qu'il rappe depuis 2014, ce n'est qu'en 2018 qu'il va se faire connaître du grand public, notamment via son titre “Économise”, mais également grâce à “Vif”, issu de l'album 93 Empire, en feat. avec Sofiane.\\n\\nLe 11 janvier 2019, il sort son premier projet, Tout pour nous, qui contient notamment des featuring avec Kaaris et Alkpote.\"}\n",
      "--------------------------------------------------\n"
     ]
    }
   ],
   "source": [
    "def find_by_url(url):\n",
    "    id_ = get_genius_id_from_url(url)\n",
    "    print(id_,url, get_artist_from_id(id_)[\"artist\"][\"description\"])\n",
    "    print(\"-\"*50)\n",
    "\n",
    "\n",
    "for url in [\"https://genius.com/artists/Mayo\"]:\n",
    "    find_by_url(url)"
   ],
   "metadata": {
    "collapsed": false
   }
  }
 ],
 "metadata": {
  "kernelspec": {
   "display_name": "Python 3",
   "language": "python",
   "name": "python3"
  },
  "language_info": {
   "codemirror_mode": {
    "name": "ipython",
    "version": 2
   },
   "file_extension": ".py",
   "mimetype": "text/x-python",
   "name": "python",
   "nbconvert_exporter": "python",
   "pygments_lexer": "ipython2",
   "version": "2.7.6"
  }
 },
 "nbformat": 4,
 "nbformat_minor": 0
}
