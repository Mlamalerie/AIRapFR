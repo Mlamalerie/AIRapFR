{
 "cells": [
  {
   "cell_type": "code",
   "execution_count": 5,
   "outputs": [],
   "source": [
    "import glob\n",
    "from tqdm import tqdm\n",
    "import os"
   ],
   "metadata": {
    "collapsed": false
   }
  },
  {
   "cell_type": "markdown",
   "source": [
    "# Conditioning the lyrics generation by artist's name"
   ],
   "metadata": {
    "collapsed": false
   }
  },
  {
   "cell_type": "markdown",
   "source": [
    "## Lyrics Data"
   ],
   "metadata": {
    "collapsed": false
   }
  },
  {
   "cell_type": "code",
   "execution_count": 6,
   "metadata": {
    "collapsed": true
   },
   "outputs": [
    {
     "data": {
      "text/plain": "<data.load_corpus.CorpusDataManager at 0x1525ad570a0>"
     },
     "execution_count": 6,
     "metadata": {},
     "output_type": "execute_result"
    }
   ],
   "source": [
    "from data.load_corpus import CorpusDataManager\n",
    "\n",
    "corpus_dmng = CorpusDataManager(r\"data\\datasets\")\n",
    "corpus_dmng"
   ]
  },
  {
   "cell_type": "code",
   "execution_count": 7,
   "outputs": [
    {
     "name": "stdout",
     "output_type": "stream",
     "text": [
      "Loading 50 csv files\n"
     ]
    },
    {
     "data": {
      "text/plain": "            artist  primary_artist.id  \\\n1             Kobo            1010841   \n2             Kobo            1010841   \n3             Kobo            1010841   \n5             Kobo            1010841   \n6             Kobo            1010841   \n...            ...                ...   \n5846  Demi Portion              14366   \n5847  Demi Portion              14366   \n5848  Demi Portion              14366   \n5849  Demi Portion              14366   \n5850  Demi Portion              14366   \n\n                                                 lyrics       id  \\\n1     Présumé sobre Lyrics[Intro]\\nC'est tellement l...  3028067   \n2     What’s my name? Lyrics[Couplet 1]\\nMe demande ...  2872317   \n3     Au pays des droits de l’Homme Lyrics[Couplet 1...  3296523   \n5     #Frenchmen - Saison 2 - Kobo Lyrics[Couplet un...  4123882   \n6     All Eyes On Me Lyrics[Couplet 1]\\n243 milles c...  3618646   \n...                                                 ...      ...   \n5846  Bic rassemblement Lyrics[Couplet 1 : Demi Port...   654132   \n5847  Bordélique LyricsPlutot gueuler que de me tair...   465660   \n5848  Freestyle à TMAXX LyricsRachid ... Couzin sort...   257307   \n5849  J’me suis fait tout p’tit Lyrics[Couplet 1]\\nJ...   192829   \n5850  Un Point (Freestyle #2chezmoi) Lyrics[Intro]\\n...  2416090   \n\n                               title            album.name  \\\n1                      Présumé sobre                   nan   \n2                    What’s my name?                   nan   \n3      Au pays des droits de l’Homme         Tueurs (B.O.)   \n5       #Frenchmen - Saison 2 - Kobo  Frenchmen - Saison 2   \n6                     All Eyes On Me       Période d’essai   \n...                              ...                   ...   \n5846               Bic rassemblement                   nan   \n5847                      Bordélique                   nan   \n5848               Freestyle à TMAXX                   nan   \n5849       J’me suis fait tout p’tit                   nan   \n5850  Un Point (Freestyle #2chezmoi)                   nan   \n\n      release_date_components.year  artist_names featured_artists language  \n1                           2016.0          Kobo               []       fr  \n2                           2016.0          Kobo               []       fr  \n3                           2017.0          Kobo               []       fr  \n5                           2018.0          Kobo               []       fr  \n6                           2018.0          Kobo               []       fr  \n...                            ...           ...              ...      ...  \n5846                           NaN  Demi Portion               []       fr  \n5847                           NaN  Demi Portion               []       fr  \n5848                           NaN  Demi Portion               []       fr  \n5849                           NaN  Demi Portion               []       fr  \n5850                           NaN  Demi Portion               []       fr  \n\n[5053 rows x 10 columns]",
      "text/html": "<div>\n<style scoped>\n    .dataframe tbody tr th:only-of-type {\n        vertical-align: middle;\n    }\n\n    .dataframe tbody tr th {\n        vertical-align: top;\n    }\n\n    .dataframe thead th {\n        text-align: right;\n    }\n</style>\n<table border=\"1\" class=\"dataframe\">\n  <thead>\n    <tr style=\"text-align: right;\">\n      <th></th>\n      <th>artist</th>\n      <th>primary_artist.id</th>\n      <th>lyrics</th>\n      <th>id</th>\n      <th>title</th>\n      <th>album.name</th>\n      <th>release_date_components.year</th>\n      <th>artist_names</th>\n      <th>featured_artists</th>\n      <th>language</th>\n    </tr>\n  </thead>\n  <tbody>\n    <tr>\n      <th>1</th>\n      <td>Kobo</td>\n      <td>1010841</td>\n      <td>Présumé sobre Lyrics[Intro]\\nC'est tellement l...</td>\n      <td>3028067</td>\n      <td>Présumé sobre</td>\n      <td>nan</td>\n      <td>2016.0</td>\n      <td>Kobo</td>\n      <td>[]</td>\n      <td>fr</td>\n    </tr>\n    <tr>\n      <th>2</th>\n      <td>Kobo</td>\n      <td>1010841</td>\n      <td>What’s my name? Lyrics[Couplet 1]\\nMe demande ...</td>\n      <td>2872317</td>\n      <td>What’s my name?</td>\n      <td>nan</td>\n      <td>2016.0</td>\n      <td>Kobo</td>\n      <td>[]</td>\n      <td>fr</td>\n    </tr>\n    <tr>\n      <th>3</th>\n      <td>Kobo</td>\n      <td>1010841</td>\n      <td>Au pays des droits de l’Homme Lyrics[Couplet 1...</td>\n      <td>3296523</td>\n      <td>Au pays des droits de l’Homme</td>\n      <td>Tueurs (B.O.)</td>\n      <td>2017.0</td>\n      <td>Kobo</td>\n      <td>[]</td>\n      <td>fr</td>\n    </tr>\n    <tr>\n      <th>5</th>\n      <td>Kobo</td>\n      <td>1010841</td>\n      <td>#Frenchmen - Saison 2 - Kobo Lyrics[Couplet un...</td>\n      <td>4123882</td>\n      <td>#Frenchmen - Saison 2 - Kobo</td>\n      <td>Frenchmen - Saison 2</td>\n      <td>2018.0</td>\n      <td>Kobo</td>\n      <td>[]</td>\n      <td>fr</td>\n    </tr>\n    <tr>\n      <th>6</th>\n      <td>Kobo</td>\n      <td>1010841</td>\n      <td>All Eyes On Me Lyrics[Couplet 1]\\n243 milles c...</td>\n      <td>3618646</td>\n      <td>All Eyes On Me</td>\n      <td>Période d’essai</td>\n      <td>2018.0</td>\n      <td>Kobo</td>\n      <td>[]</td>\n      <td>fr</td>\n    </tr>\n    <tr>\n      <th>...</th>\n      <td>...</td>\n      <td>...</td>\n      <td>...</td>\n      <td>...</td>\n      <td>...</td>\n      <td>...</td>\n      <td>...</td>\n      <td>...</td>\n      <td>...</td>\n      <td>...</td>\n    </tr>\n    <tr>\n      <th>5846</th>\n      <td>Demi Portion</td>\n      <td>14366</td>\n      <td>Bic rassemblement Lyrics[Couplet 1 : Demi Port...</td>\n      <td>654132</td>\n      <td>Bic rassemblement</td>\n      <td>nan</td>\n      <td>NaN</td>\n      <td>Demi Portion</td>\n      <td>[]</td>\n      <td>fr</td>\n    </tr>\n    <tr>\n      <th>5847</th>\n      <td>Demi Portion</td>\n      <td>14366</td>\n      <td>Bordélique LyricsPlutot gueuler que de me tair...</td>\n      <td>465660</td>\n      <td>Bordélique</td>\n      <td>nan</td>\n      <td>NaN</td>\n      <td>Demi Portion</td>\n      <td>[]</td>\n      <td>fr</td>\n    </tr>\n    <tr>\n      <th>5848</th>\n      <td>Demi Portion</td>\n      <td>14366</td>\n      <td>Freestyle à TMAXX LyricsRachid ... Couzin sort...</td>\n      <td>257307</td>\n      <td>Freestyle à TMAXX</td>\n      <td>nan</td>\n      <td>NaN</td>\n      <td>Demi Portion</td>\n      <td>[]</td>\n      <td>fr</td>\n    </tr>\n    <tr>\n      <th>5849</th>\n      <td>Demi Portion</td>\n      <td>14366</td>\n      <td>J’me suis fait tout p’tit Lyrics[Couplet 1]\\nJ...</td>\n      <td>192829</td>\n      <td>J’me suis fait tout p’tit</td>\n      <td>nan</td>\n      <td>NaN</td>\n      <td>Demi Portion</td>\n      <td>[]</td>\n      <td>fr</td>\n    </tr>\n    <tr>\n      <th>5850</th>\n      <td>Demi Portion</td>\n      <td>14366</td>\n      <td>Un Point (Freestyle #2chezmoi) Lyrics[Intro]\\n...</td>\n      <td>2416090</td>\n      <td>Un Point (Freestyle #2chezmoi)</td>\n      <td>nan</td>\n      <td>NaN</td>\n      <td>Demi Portion</td>\n      <td>[]</td>\n      <td>fr</td>\n    </tr>\n  </tbody>\n</table>\n<p>5053 rows × 10 columns</p>\n</div>"
     },
     "execution_count": 7,
     "metadata": {},
     "output_type": "execute_result"
    }
   ],
   "source": [
    "df_corpus = corpus_dmng.get_full_df_lyrics_corpus(limit_nb_artists=50)\n",
    "df_corpus"
   ],
   "metadata": {
    "collapsed": false
   }
  },
  {
   "cell_type": "code",
   "execution_count": 24,
   "outputs": [
    {
     "name": "stdout",
     "output_type": "stream",
     "text": [
      "Présumé sobre Lyrics[Intro]\n",
      "C'est tellement le bordel dans ma tête\n",
      "Que je m'endors au volant\n",
      "J'oublie mes soucis c'est la fête\n",
      "La réalité m'rattrape lentement\n",
      "Présumé sobre, j'cherche à trafiquer l'éthylotest\n",
      "Je serais mort si la vie avait décidé que j'y reste\n",
      "\n",
      "[Refrain]\n",
      "C'est tellement le bordel dans ma tête\n",
      "Que je m'endors au volant\n",
      "J'oublie mes soucis c'est la fête\n",
      "La réalité m'rattrape lentement\n",
      "Présumé sobre, j'cherche à trafiquer l'éthylotest\n",
      "Je serais mort si la vie avait décidé que j'y reste\n",
      "[Couplet 1]\n",
      "J'ai rêvé\n",
      "D'une juive qui portait le voile, d'un musulman portant la kippa\n",
      "D'un monde où régnait la paix dans lequel les armes ne tuent pas\n",
      "Où la liberté est sans limite, là ou l'argent n'est pas roi\n",
      "Une utopie colorée, n'est ce pas là ce qu'est la foi ?\n",
      "J'suis perdu au milieu de nulle part\n",
      "Et je peine à trouver ma voie\n",
      "J'ai voulu crier a l'aide, à force d'essayer j'ai perdu ma voix\n",
      "Un jour tu vis, un jour tu meurs, dans un hélico comme Balavoine\n",
      "J'me rappelle de ces jours de vache maigre, tous les matins, flocons d'avoine\n",
      "Le paradis ressemble à un champ de pavot\n",
      "Pour les frères du hood\n",
      "Dire qu'à l'époque la plupart voyait leur avenir dans le foot\n",
      "La parodie de cette société sera difficile a réaliser\n",
      "Ma liberté se restreint parfois j'ai un peu de mal a  tout schématiser\n",
      "\n",
      "[Refrain]\n",
      "C'est tellement le bordel dans ma tête\n",
      "Que je m'endors au volant\n",
      "J'oublie mes soucis c'est la fête\n",
      "La réalité m'rattrape lentement\n",
      "Présumé sobre, j'cherche à trafiquer éthylotest\n",
      "Je serais mort si la vie avait décidé que j'y reste\n",
      "C'est tellement le bordel dans ma tête\n",
      "Que je m'endors au volant\n",
      "J'oublie mes soucis c'est la fête\n",
      "La réalité m'rattrape lentement\n",
      "Présumé sobre, j'cherche à trafiquer éthylotest\n",
      "Je serais mort si la vie avait décidé que j'y reste\n",
      "You might also like[Couplet 2]\n",
      "Pas le choix j'dois m'accrocher\n",
      "Uppercut gauche, crochet\n",
      "En finir avant de raccrocher les gants\n",
      "Maintenir la garde élevée\n",
      "Les darons nous ont bien élevés\n",
      "Il fallait peut-être plus de lovés\n",
      "Mais on a pas manqué de love\n",
      "On a pas manqué de confort\n",
      "Y'a d'la cocaïne dans l'bar à chicha d'la ville\n",
      "J'n'en consomme pas, mais l'bénéfice me met toujours a l'affût\n",
      "Le monde est a toi, m'a dit Montana Tony\n",
      "Argent, pouvoir et à la Hannah Montana d'office\n",
      "Besoin de me changer les idées\n",
      "Les meilleurs sont partis les premiers\n",
      "Mon tour viendra peut-être en dernier\n",
      "Il viendra peut-être en dernier\n",
      "J'aurai hiberné pendant des années\n",
      "A courir après l'inconnu , je me sens m'en aller\n",
      "\n",
      "[Refrain]\n",
      "C'est tellement le bordel dans ma tête\n",
      "Que je m'endors au volant\n",
      "J'oublie mes soucis c'est la fête\n",
      "La réalité m'rattrape lentement\n",
      "Présumé sobre, j'cherche à trafiquer l'éthylotest\n",
      "Je serais mort si la vie avait décidé que j'y reste\n",
      "C'est tellement le bordel dans ma tête\n",
      "Que je m'endors au volant\n",
      "J'oublie mes soucis c'est la fête\n",
      "La réalité m'rattrape lentement\n",
      "Présumé sobre, j'cherche à trafiquer éthylotest\n",
      "Je serais mort si la vie avait décidé que j'y reste\n",
      "[Couplet 3]\n",
      "J'avais rendez-vous\n",
      "Avec la gloire\n",
      "Mais je me dis que, finalement ce\n",
      "Sera peut-être partie remise\n",
      "Garde la foi frère\n",
      "Et crois en toi\n",
      "Ils me disent\n",
      "On a bravé la loi man\n",
      "Pour ne pas être en déficit\n",
      "Pour cette unité mais pas pour la frime\n",
      "On fait la mula\n",
      "Ma chance sur un fil\n",
      "Péris les risques\n",
      "Est-ce que tu pourras\n",
      "Assumer les conséquences ?\n",
      "Et verser des litres de larme\n",
      "Te regarder dans le miroir ?\n",
      "Sans avoir à sortir une arme\n",
      "Dans le cœur j'ai une armée\n",
      "La boule au ventre est affamée\n",
      "Si je fréquente tout ces coins malfamés\n",
      "C'est a contre-cœur\n",
      "J'entends mes démons ricaner\n",
      "Et me dire que tout va foirer\n",
      "Je n'ai plus le droit d'abandonner\n",
      "J'fais face à ma peur\n",
      "\n",
      "[Refrain]\n",
      "C'est tellement le bordel dans ma tête\n",
      "Que je m'endors au volant\n",
      "J'oublie mes soucis c'est la fête\n",
      "La réalité m'rattrape lentement\n",
      "Présumé sobre, j'cherche à trafiquer l'éthylotest\n",
      "Je serais mort si la vie avait décidé que j'y reste\n",
      "C'est tellement le bordel dans ma tête\n",
      "Que je m'endors au volant\n",
      "J'oublie mes soucis c'est la fête\n",
      "La réalité m'rattrape lentement\n",
      "Présumé sobre, j'cherche à trafiquer éthylotest\n",
      "Je serais mort si la vie avait décidé que j'y reste1Embed\n"
     ]
    }
   ],
   "source": [
    "print(df_corpus[\"lyrics\"].iloc[0])"
   ],
   "metadata": {
    "collapsed": false
   }
  }
 ],
 "metadata": {
  "kernelspec": {
   "display_name": "Python 3",
   "language": "python",
   "name": "python3"
  },
  "language_info": {
   "codemirror_mode": {
    "name": "ipython",
    "version": 2
   },
   "file_extension": ".py",
   "mimetype": "text/x-python",
   "name": "python",
   "nbconvert_exporter": "python",
   "pygments_lexer": "ipython2",
   "version": "2.7.6"
  }
 },
 "nbformat": 4,
 "nbformat_minor": 0
}
